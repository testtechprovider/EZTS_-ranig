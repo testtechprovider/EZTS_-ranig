{
 "cells": [
  {
   "cell_type": "code",
   "execution_count": 10,
   "id": "d6c519ab-9055-45bd-83c2-7011f412457b",
   "metadata": {},
   "outputs": [
    {
     "name": "stdout",
     "output_type": "stream",
     "text": [
      "{'A': 0, 'B': 1, 'C': 3, 'D': 5, 'E': 0, 'F': 3}\n"
     ]
    }
   ],
   "source": [
    "def bellman_ford(graph, source):\n",
    "    distances = {vertex: float('inf') for vertex in graph}\n",
    "    distances[source] = 0\n",
    "    for _ in range(len(graph) - 1):\n",
    "        for u in graph:\n",
    "            for v, weight in graph[u].items():\n",
    "                if distances[u] != float('inf') and distances[u] + weight < distances[v]:\n",
    "                    distances[v] = distances[u] + weight\n",
    "    for u in graph:\n",
    "        for v, weight in graph[u].items():\n",
    "            if distances[u] != float('inf') and distances[u] + weight < distances[v]:\n",
    "                raise ValueError(\"Graph contains negative weight cycle\")\n",
    "\n",
    "    return distances\n",
    "\n",
    "\n",
    "\n",
    "graph = {\n",
    "    'A': {'B': 6, 'C': 4, 'D': 5},\n",
    "    'B': {'E': -1},\n",
    "    'C': {'B': -2,'E':3},\n",
    "    'D': {'C': -2, 'F': -1},\n",
    "    'E': {'F': 3},\n",
    "    'F': {}\n",
    "}\n",
    "source = 'A'\n",
    "\n",
    "shortest_distances = bellman_ford(graph, source)\n",
    "print(shortest_distances)\n"
   ]
  },
  {
   "cell_type": "code",
   "execution_count": 14,
   "id": "ff353d0b-9316-4748-b055-f8bde78b1ccc",
   "metadata": {},
   "outputs": [
    {
     "name": "stdout",
     "output_type": "stream",
     "text": [
      "{0: 0, 1: 1, 2: 3, 3: 5, 4: 0, 5: 3}\n"
     ]
    }
   ],
   "source": [
    "#shortest distance from single source\n",
    "g=[\n",
    "    [0,6,4,5,False,False],\n",
    "    [False,0,False,False,-1,False],\n",
    "    [False,-2,0,False,3,False],\n",
    "    [False,False,-2,0,False,-1],\n",
    "    [False,False,False,False,0,3],\n",
    "    [False,False,False,False,False,0]\n",
    "    \n",
    "]\n",
    "#d={0:\"A\", 1:\"B\", 2:\"C\", 3:\"D\", 4:\"E\", 5:\"F\"}\n",
    "el=[]\n",
    "for i in range(len(g)):\n",
    "    for j in range(len(g[i])):\n",
    "        if g[i][j]!=False and g[i][j]!=0:\n",
    "            el.append(tuple((i,j)))\n",
    "#print(el)\n",
    "dist={}\n",
    "for i in range(len(g)):\n",
    "    dist[i]=float('inf')\n",
    "\n",
    "dist[0]=0\n",
    "#print(dist)\n",
    "for i in range(len(g)-1):\n",
    "    for j in el:\n",
    "        new_dist=dist[j[0]]+g[j[0]][j[1]]\n",
    "        if dist[j[1]]>new_dist:\n",
    "            dist[j[1]]=new_dist\n",
    "print(dist)"
   ]
  },
  {
   "cell_type": "code",
   "execution_count": 3,
   "id": "d5b4e839-9056-490c-8170-bda942c7d99c",
   "metadata": {},
   "outputs": [
    {
     "name": "stdout",
     "output_type": "stream",
     "text": [
      "[0, -4, -1, -2, -5, -6, -7, -8, -3, -9]\n"
     ]
    }
   ],
   "source": [
    "G=[\n",
    "    [0,7,-1,-1,-1,-1,-1,2,-1,-1],\n",
    "    [7,0,4,1,-1,5,-1,-1,-1,-1],\n",
    "    [-1,4,0,-1,-1,-1,-1,8,-1,-1],\n",
    "    [-1,1,-1,0,6,8,3,3,-1,-1],\n",
    "    [-1,-1,-1,6,0,-1,-1,6,8,-1],\n",
    "    [-1,5,-1,8,-1,0,-1,-1,-1,-1],\n",
    "    [-1,-1,-1,3,-1,-1,0,-1,9,2],\n",
    "    [2,-1,8,3,6,-1,-1,0,-1,-1],\n",
    "    [-1,-1,-1,-1,8,-1,9,-1,0,-1],\n",
    "    [-1,-1,-1,-1,-1,-1,2,-1,-1,0]\n",
    "]\n",
    "temp={}\n",
    "\n",
    "\n",
    "for i in range(len(G)):\n",
    "    temp[i]=float(\"inf\")\n",
    "\n",
    "Dist=[float(\"inf\")]*len(G)\n",
    "\n",
    "temp[0]=0\n",
    "\n",
    "while len(temp)>0:\n",
    "    min_value=min(temp.values())\n",
    "    min_key=min(temp,key=temp.get)\n",
    "    temp.pop(min_key)\n",
    "    Dist[min_key]=min_value\n",
    "    for j in range(len(G[min_key])):\n",
    "        if G[min_key][j]!=False and G[min_key][j]!=0:\n",
    "            new_dist=min_value+G[min_key][j]\n",
    "            if j in temp.keys() and temp[j]>new_dist:\n",
    "                temp[j]=new_dist\n",
    "print(Dist)\n"
   ]
  },
  {
   "cell_type": "code",
   "execution_count": 11,
   "id": "69ce4a18-c52d-4b89-ab50-60fe5f017912",
   "metadata": {},
   "outputs": [
    {
     "name": "stdout",
     "output_type": "stream",
     "text": [
      "Minimum Cost = 19\n"
     ]
    }
   ],
   "source": [
    "#travelling salesman problem by dynamic programming using recursive call\n",
    "import sys\n",
    "def Cost(curr, visited, G, DP):\n",
    "    n = len(G)\n",
    "    visit = tuple(visited)\n",
    "\n",
    "    if (curr, visit) in DP:\n",
    "        return DP[(curr, visit)]\n",
    "\n",
    "\n",
    "    if len(visited) == n:\n",
    "        return G[curr][0]\n",
    "\n",
    "    min_cost = sys.maxsize\n",
    "    for i in range(n):\n",
    "        if i not in visited: \n",
    "            new_visit = visited + [i]\n",
    "            new_cost = G[curr][i] + Cost(i, new_visit, G, DP)\n",
    "            min_cost = min(min_cost, new_cost)\n",
    "\n",
    "    DP[(curr, visit)] = min_cost\n",
    "\n",
    "    return min_cost\n",
    "\n",
    "G = [\n",
    "    [0, 4, 7, 5, 5],\n",
    "    [4, 0, 2, 3, 8],\n",
    "    [7, 2, 0, 3, 4],\n",
    "    [5, 3, 3, 0, 6],\n",
    "    [5, 8, 4, 6, 0]\n",
    "]\n",
    "\n",
    "n = len(G)\n",
    "DP = {}\n",
    "\n",
    "print(\"Minimum Cost =\", Cost(0, [0], G, DP))\n"
   ]
  },
  {
   "cell_type": "code",
   "execution_count": 15,
   "id": "06c10edb-397f-4a3d-beb0-09932a4e3cb1",
   "metadata": {},
   "outputs": [
    {
     "name": "stdout",
     "output_type": "stream",
     "text": [
      "Minimum Cost = 19\n"
     ]
    }
   ],
   "source": [
    "import sys\n",
    "\n",
    "def tsp(G):\n",
    "    n = len(G)\n",
    "    DP = [[sys.maxsize] * n for _ in range(1 << n)]\n",
    "    DP[1][0] = 0\n",
    "\n",
    "    for visited in range(1 << n):\n",
    "        for last in range(n):\n",
    "            if not (visited & (1 << last)):\n",
    "                continue\n",
    "            for next in range(n):\n",
    "                if last == next or visited & (1 << next) == 0:  \n",
    "                    continue\n",
    "                DP[visited][next] = min(DP[visited][next], DP[visited ^ (1 << next)][last] + G[last][next])\n",
    "\n",
    "    min_cost = sys.maxsize\n",
    "    final_visited = (1 << n) - 1\n",
    "    for end in range(1, n):\n",
    "        min_cost = min(min_cost, DP[final_visited][end] + G[end][0])\n",
    "\n",
    "    return min_cost\n",
    "\n",
    "G = [\n",
    "    [0, 4, 7, 5, 5],\n",
    "    [4, 0, 2, 3, 8],\n",
    "    [7, 2, 0, 3, 4],\n",
    "    [5, 3, 3, 0, 6],\n",
    "    [5, 8, 4, 6, 0]\n",
    "]\n",
    "\n",
    "print(\"Minimum Cost =\", tsp(G))\n"
   ]
  },
  {
   "cell_type": "code",
   "execution_count": 19,
   "id": "7eecd99c-cc13-49f5-a73b-8d7685f6f5e3",
   "metadata": {},
   "outputs": [
    {
     "name": "stdout",
     "output_type": "stream",
     "text": [
      "Pattern 'ABABCA' found at index 2.\n",
      "Index of 'ABABCA' in 'ABABABCANFKABABCNKABABCACNDA' is: 2\n"
     ]
    }
   ],
   "source": [
    "def find_pattern(s, P):\n",
    "    return s.find(P)\n",
    "s = \"ABABABCANFKABABCNKABABCACNDA\"\n",
    "P = \"ABABCA\"\n",
    "\n",
    "index = find_pattern(s, P)\n",
    "if index != -1:\n",
    "    print(f\"Pattern '{P}' found at index {index}.\")\n",
    "else:\n",
    "    print(f\"Pattern '{P}' not found in string '{s}'.\")\n",
    "\n",
    "\n",
    "n = len(s)\n",
    "m = len(P)\n",
    "index = -1\n",
    "\n",
    "for i in range(n - m + 1):\n",
    "    if s[i:i + m] == P:\n",
    "        index = i\n",
    "        break\n",
    "\n",
    "print(f\"Index of '{P}' in '{s}' is: {index}\")\n",
    "\n",
    "\n"
   ]
  },
  {
   "cell_type": "code",
   "execution_count": null,
   "id": "db81d639-fae9-4d34-b02e-31cf56558826",
   "metadata": {},
   "outputs": [],
   "source": []
  }
 ],
 "metadata": {
  "kernelspec": {
   "display_name": "Python 3 (ipykernel)",
   "language": "python",
   "name": "python3"
  },
  "language_info": {
   "codemirror_mode": {
    "name": "ipython",
    "version": 3
   },
   "file_extension": ".py",
   "mimetype": "text/x-python",
   "name": "python",
   "nbconvert_exporter": "python",
   "pygments_lexer": "ipython3",
   "version": "3.11.5"
  }
 },
 "nbformat": 4,
 "nbformat_minor": 5
}
