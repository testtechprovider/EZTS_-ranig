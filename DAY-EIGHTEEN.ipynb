{
 "cells": [
  {
   "cell_type": "markdown",
   "id": "02028733",
   "metadata": {},
   "source": [
    "### DOUBLE HASHING"
   ]
  },
  {
   "cell_type": "code",
   "execution_count": 7,
   "id": "39678931",
   "metadata": {},
   "outputs": [
    {
     "name": "stdout",
     "output_type": "stream",
     "text": [
      "[81, 34, 46, 56, 45, 104, 70, 37, 39, 20]\n"
     ]
    }
   ],
   "source": [
    "k=[20,34,45,70,56,81,104,37,46,39]\n",
    "#hk=[False]*11\n",
    "hk=[False for i in range(len(k))]\n",
    "n=len(k)\n",
    "\n",
    "for i in k:\n",
    "    h1_k = i % 11\n",
    "    #print (hk)\n",
    "    for j in range(len(k)):\n",
    "        h2_k=8-(i % 8)\n",
    "        h_k=(h1_k + j * (h2_k)) % 11\n",
    "        if hk[h_k] == False:\n",
    "            hk[h_k]=i\n",
    "            break        \n",
    "\n",
    "print(hk)"
   ]
  },
  {
   "cell_type": "markdown",
   "id": "f43bb58a",
   "metadata": {},
   "source": [
    "#### BIT MANIPULATION"
   ]
  },
  {
   "cell_type": "code",
   "execution_count": 23,
   "id": "934bb448",
   "metadata": {},
   "outputs": [
    {
     "name": "stdout",
     "output_type": "stream",
     "text": [
      "0b100\n",
      "0b101\n",
      "0b1\n",
      "-0b110\n",
      "-0b101\n",
      "10\n",
      "2\n"
     ]
    }
   ],
   "source": [
    "a=5\n",
    "b=4\n",
    "print(bin(a & b))\n",
    "print(bin(a | b))\n",
    "print(bin(a ^ b))\n",
    "print(bin(~a))\n",
    "print(bin(~b))\n",
    "print(a<<1)\n",
    "print(b>>1)"
   ]
  },
  {
   "cell_type": "code",
   "execution_count": 24,
   "id": "d95cf348",
   "metadata": {},
   "outputs": [
    {
     "name": "stdout",
     "output_type": "stream",
     "text": [
      "0b101\n"
     ]
    }
   ],
   "source": [
    "print(bin(5))"
   ]
  },
  {
   "cell_type": "code",
   "execution_count": 25,
   "id": "71fd2a9d",
   "metadata": {},
   "outputs": [
    {
     "name": "stdout",
     "output_type": "stream",
     "text": [
      "-6\n"
     ]
    }
   ],
   "source": [
    "print(~5)"
   ]
  },
  {
   "cell_type": "code",
   "execution_count": 28,
   "id": "653e64fb",
   "metadata": {},
   "outputs": [
    {
     "name": "stdout",
     "output_type": "stream",
     "text": [
      "(1, 4)\n",
      "(2, 3)\n",
      "(3, 2)\n",
      "(4, 1)\n"
     ]
    }
   ],
   "source": [
    "# zip() function\n",
    "a=[1,2,3,4]\n",
    "b=[4,3,2,1,6]\n",
    "for i in zip(a,b):\n",
    "    print(i)"
   ]
  },
  {
   "cell_type": "markdown",
   "id": "1e1c09d3",
   "metadata": {},
   "source": [
    "### n-queens"
   ]
  },
  {
   "cell_type": "code",
   "execution_count": 2,
   "id": "cd0fd9fd",
   "metadata": {},
   "outputs": [
    {
     "name": "stdout",
     "output_type": "stream",
     "text": [
      ". . Q .\n",
      "Q . . .\n",
      ". . . Q\n",
      ". Q . .\n",
      "\n"
     ]
    },
    {
     "data": {
      "text/plain": [
       "True"
      ]
     },
     "execution_count": 2,
     "metadata": {},
     "output_type": "execute_result"
    }
   ],
   "source": [
    "def print_board(board):\n",
    "    for row in board:\n",
    "        print(\" \".join(row))\n",
    "    print()\n",
    "\n",
    "def is_safe(board, row, col):\n",
    "    # Check the row on the left side\n",
    "    for i in range(col):\n",
    "        if board[row][i] == 'Q':\n",
    "            return False\n",
    "\n",
    "    # Check the upper diagonal on the left side\n",
    "    for i, j in zip(range(row, -1, -1), range(col, -1, -1)):\n",
    "        if board[i][j] == 'Q':\n",
    "            return False\n",
    "\n",
    "    # Check the lower diagonal on the left side\n",
    "    for i, j in zip(range(row, len(board), 1), range(col, -1, -1)):\n",
    "        if board[i][j] == 'Q':\n",
    "            return False\n",
    "\n",
    "    return True\n",
    "\n",
    "def solve_n_queens(board, col):\n",
    "    if col >= len(board):\n",
    "        return True\n",
    "\n",
    "    for i in range(len(board)):\n",
    "        if is_safe(board, i, col):\n",
    "            board[i][col] = 'Q'\n",
    "            if solve_n_queens(board, col + 1):\n",
    "                return True\n",
    "            board[i][col] = '.'  # Backtrack\n",
    "\n",
    "    return False\n",
    "\n",
    "def n_queens(N):\n",
    "    board = [['.' for _ in range(N)] for _ in range(N)]\n",
    "    if not solve_n_queens(board, 0):\n",
    "        print(\"Solution does not exist\")\n",
    "        return False\n",
    "\n",
    "    print_board(board)\n",
    "    return True\n",
    "\n",
    "# Example usage:\n",
    "n_queens(4)"
   ]
  },
  {
   "cell_type": "markdown",
   "id": "affc9f21",
   "metadata": {},
   "source": [
    "#### available denominations: coins problem sum=18 what will be the  min num of coins required to pay the bill."
   ]
  },
  {
   "cell_type": "code",
   "execution_count": 7,
   "id": "1b137db5",
   "metadata": {},
   "outputs": [],
   "source": [
    "#greedy aproach"
   ]
  },
  {
   "cell_type": "code",
   "execution_count": 4,
   "id": "4b6dabd7",
   "metadata": {},
   "outputs": [
    {
     "name": "stdout",
     "output_type": "stream",
     "text": [
      "1 5 7\n",
      "[7, 5, 1]\n",
      "7\n",
      "7\n",
      "1\n",
      "1\n",
      "1\n",
      "1\n",
      "coins: 6\n"
     ]
    }
   ],
   "source": [
    "arr=list(map(int,input().split()))\n",
    "arr.sort(reverse=True)\n",
    "print(arr)\n",
    "c=0\n",
    "i=0\n",
    "b=18\n",
    "while(b>0):\n",
    "    if b>=arr[i] and i<len(arr):\n",
    "        c+=1\n",
    "        b=b-arr[i]\n",
    "        print(arr[i]) #to print which coin is used\n",
    "    else:\n",
    "        i=i+1\n",
    "print(\"coins:\",c)\n",
    "    \n",
    "    \n",
    "    "
   ]
  },
  {
   "cell_type": "code",
   "execution_count": null,
   "id": "18e3f3ef",
   "metadata": {},
   "outputs": [],
   "source": []
  },
  {
   "cell_type": "code",
   "execution_count": null,
   "id": "2ff33296",
   "metadata": {},
   "outputs": [],
   "source": []
  }
 ],
 "metadata": {
  "kernelspec": {
   "display_name": "Python 3 (ipykernel)",
   "language": "python",
   "name": "python3"
  },
  "language_info": {
   "codemirror_mode": {
    "name": "ipython",
    "version": 3
   },
   "file_extension": ".py",
   "mimetype": "text/x-python",
   "name": "python",
   "nbconvert_exporter": "python",
   "pygments_lexer": "ipython3",
   "version": "3.11.5"
  }
 },
 "nbformat": 4,
 "nbformat_minor": 5
}
