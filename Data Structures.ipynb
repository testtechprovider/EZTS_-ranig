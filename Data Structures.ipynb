{
 "cells": [
  {
   "cell_type": "code",
   "execution_count": 3,
   "id": "3bcb24b8-5067-49db-b680-1f8af46ebb5b",
   "metadata": {},
   "outputs": [
    {
     "name": "stdout",
     "output_type": "stream",
     "text": [
      "[10, 20, 30, 40, 50]\n",
      "50\n",
      "[10, 20, 30, 40]\n",
      "4\n"
     ]
    }
   ],
   "source": [
    "class Stack:\n",
    "    def __init__(self):\n",
    "        self.items = []  \n",
    "    def push(self,data):\n",
    "        self.items.append(data)  \n",
    "    def pop(self):\n",
    "        if self.items: \n",
    "            return self.items.pop()\n",
    "        return None  \n",
    "    def size(self):\n",
    "        return len(self.items)\n",
    "\n",
    "s=Stack()\n",
    "s.push(10)\n",
    "s.push(20)\n",
    "s.push(30)\n",
    "s.push(40)\n",
    "s.push(50)\n",
    "print(s.items)\n",
    "print(s.pop())\n",
    "print(s.items)\n",
    "print(s.size())"
   ]
  },
  {
   "cell_type": "markdown",
   "id": "81edf54a-5ba3-44ef-b152-4cc6f96d57de",
   "metadata": {},
   "source": [
    "#### A student is given a task to create some mathematical expression for BODMAS,but due to some otherr work he forgot to do that but in the night he clicked that he have to create some expression for BODMAS due to sleepy mood he did some mistake while putting the brackets. Your job is to check whether the expression give by that boy is valid or not. Sample Input: [3+7{52/11(3+5)}] Valid expression as all the brackets are properly open and close. [4-6{235(9+6)] Invalid expression as some brackets are not proper."
   ]
  },
  {
   "cell_type": "code",
   "execution_count": 4,
   "id": "ed396756-5971-4953-b397-accfdbc058a5",
   "metadata": {},
   "outputs": [
    {
     "name": "stdin",
     "output_type": "stream",
     "text": [
      "Enter the mathematical expression:  [3+7{52/11(3+5)}]\n"
     ]
    },
    {
     "name": "stdout",
     "output_type": "stream",
     "text": [
      "The expression is valid.\n"
     ]
    }
   ],
   "source": [
    "def is_valid_expression(exp):\n",
    "    matching_brackets = {')': '(', '}': '{', ']': '['}\n",
    "    stack = []\n",
    "\n",
    "    for char in exp:\n",
    "        if char in matching_brackets.values():\n",
    "            stack.append(char)\n",
    "        elif char in matching_brackets.keys():\n",
    "            if not stack or matching_brackets[char] != stack.pop():\n",
    "                return False\n",
    "    return not stack\n",
    "exp = input(\"Enter the mathematical expression: \")\n",
    "if is_valid_expression(exp):\n",
    "    print(\"The expression is valid.\")\n",
    "else:\n",
    "    print(\"The expression is invalid.\")"
   ]
  },
  {
   "cell_type": "code",
   "execution_count": 10,
   "id": "9d7ceeba-6ed6-4b19-9feb-74886f8813ec",
   "metadata": {},
   "outputs": [
    {
     "name": "stdout",
     "output_type": "stream",
     "text": [
      "valid\n"
     ]
    }
   ],
   "source": [
    "#Alternate\n",
    "e=\"[3+7{52/11(3+5)}]\"\n",
    "s=Stack()\n",
    "ob=\"[{(\"\n",
    "cb=\")}]\"\n",
    "flag=0\n",
    "for i in e:\n",
    "    if i in ob:\n",
    "        s.push(i)\n",
    "    if i in cb:\n",
    "        x=s.pop()\n",
    "        if x==\"(\" and i==\")\":\n",
    "            pass\n",
    "        elif x==\"{\" and i==\"}\":\n",
    "            pass\n",
    "        elif x==\"[\" and i==\"]\":\n",
    "            pass\n",
    "        else:\n",
    "            flag=1\n",
    "            break\n",
    "#if flag==0 and not s: \n",
    "if flag==0 and s.size()==0:\n",
    "    print(\"valid\")\n",
    "else:\n",
    "    print(\"invalid\")      \n",
    "#print(s.items)"
   ]
  },
  {
   "cell_type": "markdown",
   "id": "cd0ae33e-ced0-46bf-b017-d423c3b6ffc2",
   "metadata": {},
   "source": [
    "#### In a tyre factory, many workers are working there are assigned with a integer number which help them to find their supervisor. The project manager having an array that consists of integer numbers that help project manager to find their supervisors. Supervisor will be assigned as the first largest integer find on the right side of the array, if not found return -1. input:[3,5,2,14,5,3,7,9,4,6,9,4,2,5,3] output:[5,14,14,-1,7,7,9,-1,9,9,-1,5,5,-1,-1]"
   ]
  },
  {
   "cell_type": "code",
   "execution_count": 5,
   "id": "7edcc5d3-09ec-4666-8865-540375810fd9",
   "metadata": {},
   "outputs": [
    {
     "name": "stdout",
     "output_type": "stream",
     "text": [
      "[5, 14, 14, -1, 7, 7, 9, -1, 6, 9, -1, 5, 5, -1, -1]\n"
     ]
    }
   ],
   "source": [
    "input = [3,5,2,14,5,3,7,9,4,6,9,4,2,5,3]\n",
    "output = []\n",
    "\n",
    "for i in range(len(input)):\n",
    "    found = False\n",
    "    for j in range(i+1, len(input)):\n",
    "        if input[j] > input[i]:\n",
    "            output.append(input[j])\n",
    "            found = True\n",
    "            break\n",
    "    if not found:\n",
    "        output.append(-1)\n",
    "\n",
    "print(output)"
   ]
  },
  {
   "cell_type": "code",
   "execution_count": 7,
   "id": "c86bda09-2102-4fc6-b73a-075ef326366d",
   "metadata": {},
   "outputs": [
    {
     "name": "stdout",
     "output_type": "stream",
     "text": [
      "[5, 14, 14, -1, 7, 7, 9, -1, 6, 9, -1, 5, 5, -1, -1]\n"
     ]
    }
   ],
   "source": [
    "#Alternate\n",
    "class Stack:\n",
    "    def __init__(self):\n",
    "        self.items = []\n",
    "    \n",
    "    def push(self, data):\n",
    "        self.items.append(data)\n",
    "    \n",
    "    def pop(self):\n",
    "        if self.items:\n",
    "            return self.items.pop()\n",
    "        return None\n",
    "    \n",
    "    def size(self):\n",
    "        return len(self.items)\n",
    "    \n",
    "    def top(self):\n",
    "        if self.items:\n",
    "            return self.items[-1]\n",
    "        return None\n",
    "l = [3, 5, 2, 14, 5, 3, 7, 9, 4, 6, 9, 4, 2, 5, 3]\n",
    "o = [0] * len(l)\n",
    "s = Stack()\n",
    "for i in range(len(l) - 1, -1, -1):\n",
    "    if s.size() != 0:\n",
    "        while s.size() != 0 and s.top() <= l[i]:\n",
    "            s.pop()\n",
    "    if s.size() == 0:\n",
    "        o[i] = -1\n",
    "    else:\n",
    "        o[i] = s.top()\n",
    "    s.push(l[i])\n",
    "\n",
    "print(o)"
   ]
  },
  {
   "cell_type": "markdown",
   "id": "e7fe870b-d6ee-40fc-8041-db6030d39a77",
   "metadata": {},
   "source": [
    "# Queues"
   ]
  },
  {
   "cell_type": "code",
   "execution_count": 2,
   "id": "9514334a-6915-4198-ae2f-a0b21ea6c707",
   "metadata": {},
   "outputs": [
    {
     "name": "stdout",
     "output_type": "stream",
     "text": [
      "[10, 20, 30, 40]\n",
      "10\n",
      "3\n"
     ]
    }
   ],
   "source": [
    "class Queue:\n",
    "    def __init__(self):\n",
    "        self.item=[]\n",
    "    def push(self,data):\n",
    "        self.item.append(data)\n",
    "    def pop(self):\n",
    "        return self.item.pop(0)\n",
    "    def size(self):\n",
    "        return len(self.item)\n",
    "\n",
    "s=Queue()\n",
    "s.push(10)\n",
    "s.push(20)\n",
    "s.push(30)\n",
    "s.push(40)\n",
    "print(s.item)\n",
    "print(s.pop())\n",
    "print(s.size())"
   ]
  },
  {
   "cell_type": "code",
   "execution_count": 3,
   "id": "ad2251e5-faf4-43a0-be79-21b6e7fb9f38",
   "metadata": {},
   "outputs": [
    {
     "name": "stdout",
     "output_type": "stream",
     "text": [
      "hsffd\n"
     ]
    }
   ],
   "source": [
    "ls=[]\n",
    "if ls ==[]:\n",
    "    print('hsffd')"
   ]
  },
  {
   "cell_type": "markdown",
   "id": "53bc8a3e-a383-4111-8bec-942e35e7bd68",
   "metadata": {},
   "source": [
    "# Linked list"
   ]
  },
  {
   "cell_type": "code",
   "execution_count": 15,
   "id": "6ab6d9f3-506a-46eb-9e76-65667b3f5c7f",
   "metadata": {},
   "outputs": [
    {
     "name": "stdout",
     "output_type": "stream",
     "text": [
      "<__main__.Node object at 0x000001A8B296D550>\n",
      "<__main__.Node object at 0x000001A8B296F6D0>\n",
      "<__main__.Node object at 0x000001A8B296F6D0>\n",
      "10\n"
     ]
    }
   ],
   "source": [
    "class Node:\n",
    "    def __init__(self,data):\n",
    "        self.value=data\n",
    "        self.next=None\n",
    "Head=Tail=Node(10)\n",
    "Tail.next=Node(20)\n",
    "Tail=Tail.next\n",
    "Tail.next=Node(30)\n",
    "Tail=Tail.next\n",
    "Tail.next=Node(40)\n",
    "Tail=Tail.next\n",
    "print(Head)\n",
    "print(Tail)\n",
    "print(Head.next.next.next)\n",
    "print(Head.value)"
   ]
  },
  {
   "cell_type": "code",
   "execution_count": 18,
   "id": "20c5e605-dc86-4f8b-9a02-c752b3155db3",
   "metadata": {},
   "outputs": [
    {
     "name": "stdout",
     "output_type": "stream",
     "text": [
      "10\n",
      "20\n",
      "30\n",
      "40\n"
     ]
    }
   ],
   "source": [
    "def print_link_list(Head):\n",
    "    if Head==None:\n",
    "        print(\"List is empty\")\n",
    "        return\n",
    "    curr=Head\n",
    "    while curr!=None:\n",
    "        print(curr.value)\n",
    "        curr=curr.next\n",
    "print_link_list(Head)"
   ]
  },
  {
   "cell_type": "code",
   "execution_count": 4,
   "id": "258cfbd8-c7ca-471a-a7f3-6945452c0249",
   "metadata": {},
   "outputs": [
    {
     "name": "stdin",
     "output_type": "stream",
     "text": [
      "enter the value 10\n",
      "enter the value 20\n",
      "enter the value 30\n",
      "enter the value 40\n"
     ]
    },
    {
     "name": "stdout",
     "output_type": "stream",
     "text": [
      "40\n",
      "30\n",
      "20\n",
      "10\n"
     ]
    }
   ],
   "source": [
    "class Node:\n",
    "    def __init__(self,data):\n",
    "        self.value=data\n",
    "        self.next=None\n",
    "\n",
    "head=None\n",
    "def insertfirst(head):\n",
    "    data=int(input('enter the value'))\n",
    "    temp =Node(data)\n",
    "    temp.next=head\n",
    "    head = temp\n",
    "    return head\n",
    "\n",
    "def insertback(head):\n",
    "    data=int(input('enter the value'))\n",
    "    temp =Node(data)\n",
    "    while head!=None:\n",
    "        if head.next ==None:\n",
    "            head.next= temp\n",
    "            temp=head\n",
    "        head = head.next\n",
    "    return head\n",
    "for i in range(4):\n",
    "    head = insertfirst(head)\n",
    "    \n",
    "def display(head):\n",
    "    if head == None:\n",
    "        print ('list is empty')\n",
    "        return\n",
    "    curr = head \n",
    "    while curr !=None:\n",
    "        print(curr.value)\n",
    "        curr = curr.next\n",
    "        \n",
    "display(head)"
   ]
  },
  {
   "cell_type": "code",
   "execution_count": 11,
   "id": "55874f03-0545-44fb-865f-057968eb0af5",
   "metadata": {},
   "outputs": [
    {
     "name": "stdout",
     "output_type": "stream",
     "text": [
      "1. Insert at the beginning\n",
      "2. Insert at the end\n",
      "3. Insert in the middle\n",
      "4. Display\n",
      "5. Exit\n"
     ]
    },
    {
     "name": "stdin",
     "output_type": "stream",
     "text": [
      "Enter your choice:  1\n",
      "Enter the value:  10\n"
     ]
    },
    {
     "name": "stdout",
     "output_type": "stream",
     "text": [
      "1. Insert at the beginning\n",
      "2. Insert at the end\n",
      "3. Insert in the middle\n",
      "4. Display\n",
      "5. Exit\n"
     ]
    },
    {
     "name": "stdin",
     "output_type": "stream",
     "text": [
      "Enter your choice:  2\n",
      "Enter the value:  20\n"
     ]
    },
    {
     "name": "stdout",
     "output_type": "stream",
     "text": [
      "1. Insert at the beginning\n",
      "2. Insert at the end\n",
      "3. Insert in the middle\n",
      "4. Display\n",
      "5. Exit\n"
     ]
    },
    {
     "name": "stdin",
     "output_type": "stream",
     "text": [
      "Enter your choice:  3\n",
      "Enter the value:  30\n"
     ]
    },
    {
     "name": "stdout",
     "output_type": "stream",
     "text": [
      "1. Insert at the beginning\n",
      "2. Insert at the end\n",
      "3. Insert in the middle\n",
      "4. Display\n",
      "5. Exit\n"
     ]
    },
    {
     "name": "stdin",
     "output_type": "stream",
     "text": [
      "Enter your choice:  4\n"
     ]
    },
    {
     "name": "stdout",
     "output_type": "stream",
     "text": [
      "10 30 20 \n",
      "1. Insert at the beginning\n",
      "2. Insert at the end\n",
      "3. Insert in the middle\n",
      "4. Display\n",
      "5. Exit\n"
     ]
    },
    {
     "name": "stdin",
     "output_type": "stream",
     "text": [
      "Enter your choice:  5\n"
     ]
    }
   ],
   "source": [
    "class Node:\n",
    "    def __init__(self, data):\n",
    "        self.value = data\n",
    "        self.next = None\n",
    "\n",
    "def insertfirst(head):\n",
    "    data = int(input('Enter the value: '))\n",
    "    temp = Node(data)\n",
    "    temp.next = head\n",
    "    head = temp\n",
    "    return head\n",
    "\n",
    "def insertback(head):\n",
    "    data = int(input('Enter the value: '))\n",
    "    if head is None:\n",
    "        return Node(data)\n",
    "    else:\n",
    "        current = head\n",
    "        while current.next is not None:\n",
    "            current = current.next\n",
    "        current.next = Node(data)\n",
    "    return head\n",
    "\n",
    "def insertmiddle(head):\n",
    "    data = int(input('Enter the value: '))\n",
    "    temp = Node(data)\n",
    "    if head is None:\n",
    "        return temp\n",
    "    else:\n",
    "        slow = head\n",
    "        fast = head\n",
    "        while fast.next is not None and fast.next.next is not None:\n",
    "            slow = slow.next\n",
    "            fast = fast.next.next\n",
    "        temp.next = slow.next\n",
    "        slow.next = temp\n",
    "    return head\n",
    "\n",
    "def display(head):\n",
    "    if head is None:\n",
    "        print('List is empty')\n",
    "        return\n",
    "    curr = head\n",
    "    while curr is not None:\n",
    "        print(curr.value, end=' ')\n",
    "        curr = curr.next\n",
    "    print()\n",
    "\n",
    "head = None\n",
    "while True:\n",
    "    print(\"1. Insert at the beginning\")\n",
    "    print(\"2. Insert at the end\")\n",
    "    print(\"3. Insert in the middle\")\n",
    "    print(\"4. Display\")\n",
    "    print(\"5. Exit\")\n",
    "        \n",
    "    choice = int(input(\"Enter your choice: \"))\n",
    "        \n",
    "    if choice == 1:\n",
    "        head = insertfirst(head)\n",
    "    elif choice == 2:\n",
    "        head = insertback(head)\n",
    "    elif choice == 3:\n",
    "        head = insertmiddle(head)\n",
    "    elif choice == 4:\n",
    "        display(head)\n",
    "    elif choice == 5:\n",
    "        break\n",
    "    else:\n",
    "        print(\"Invalid choice. Please try again.\")"
   ]
  },
  {
   "cell_type": "code",
   "execution_count": 7,
   "id": "f2bbf423-1a40-4502-b72e-c9a2410e8098",
   "metadata": {},
   "outputs": [
    {
     "name": "stdout",
     "output_type": "stream",
     "text": [
      "1. Insert at the beginning\n",
      "2. Insert at the end\n",
      "3. Insert in the middle\n",
      "4. Delete from the beginning\n",
      "5. Delete from the end\n",
      "6. Delete from the middle\n",
      "7. Display\n",
      "8. Exit\n"
     ]
    },
    {
     "name": "stdin",
     "output_type": "stream",
     "text": [
      "Enter your choice:  1\n",
      "Enter the value:  10\n"
     ]
    },
    {
     "name": "stdout",
     "output_type": "stream",
     "text": [
      "1. Insert at the beginning\n",
      "2. Insert at the end\n",
      "3. Insert in the middle\n",
      "4. Delete from the beginning\n",
      "5. Delete from the end\n",
      "6. Delete from the middle\n",
      "7. Display\n",
      "8. Exit\n"
     ]
    },
    {
     "name": "stdin",
     "output_type": "stream",
     "text": [
      "Enter your choice:  2\n",
      "Enter the value:  30\n"
     ]
    },
    {
     "name": "stdout",
     "output_type": "stream",
     "text": [
      "1. Insert at the beginning\n",
      "2. Insert at the end\n",
      "3. Insert in the middle\n",
      "4. Delete from the beginning\n",
      "5. Delete from the end\n",
      "6. Delete from the middle\n",
      "7. Display\n",
      "8. Exit\n"
     ]
    },
    {
     "name": "stdin",
     "output_type": "stream",
     "text": [
      "Enter your choice:  3\n",
      "Enter the value:  40\n"
     ]
    },
    {
     "name": "stdout",
     "output_type": "stream",
     "text": [
      "1. Insert at the beginning\n",
      "2. Insert at the end\n",
      "3. Insert in the middle\n",
      "4. Delete from the beginning\n",
      "5. Delete from the end\n",
      "6. Delete from the middle\n",
      "7. Display\n",
      "8. Exit\n"
     ]
    },
    {
     "name": "stdin",
     "output_type": "stream",
     "text": [
      "Enter your choice:  3\n",
      "Enter the value:  20\n"
     ]
    },
    {
     "name": "stdout",
     "output_type": "stream",
     "text": [
      "1. Insert at the beginning\n",
      "2. Insert at the end\n",
      "3. Insert in the middle\n",
      "4. Delete from the beginning\n",
      "5. Delete from the end\n",
      "6. Delete from the middle\n",
      "7. Display\n",
      "8. Exit\n"
     ]
    },
    {
     "name": "stdin",
     "output_type": "stream",
     "text": [
      "Enter your choice:  7\n"
     ]
    },
    {
     "name": "stdout",
     "output_type": "stream",
     "text": [
      "10 40 20 30 \n",
      "1. Insert at the beginning\n",
      "2. Insert at the end\n",
      "3. Insert in the middle\n",
      "4. Delete from the beginning\n",
      "5. Delete from the end\n",
      "6. Delete from the middle\n",
      "7. Display\n",
      "8. Exit\n"
     ]
    },
    {
     "name": "stdin",
     "output_type": "stream",
     "text": [
      "Enter your choice:  4\n"
     ]
    },
    {
     "name": "stdout",
     "output_type": "stream",
     "text": [
      "1. Insert at the beginning\n",
      "2. Insert at the end\n",
      "3. Insert in the middle\n",
      "4. Delete from the beginning\n",
      "5. Delete from the end\n",
      "6. Delete from the middle\n",
      "7. Display\n",
      "8. Exit\n"
     ]
    },
    {
     "name": "stdin",
     "output_type": "stream",
     "text": [
      "Enter your choice:  7\n"
     ]
    },
    {
     "name": "stdout",
     "output_type": "stream",
     "text": [
      "40 20 30 \n",
      "1. Insert at the beginning\n",
      "2. Insert at the end\n",
      "3. Insert in the middle\n",
      "4. Delete from the beginning\n",
      "5. Delete from the end\n",
      "6. Delete from the middle\n",
      "7. Display\n",
      "8. Exit\n"
     ]
    },
    {
     "name": "stdin",
     "output_type": "stream",
     "text": [
      "Enter your choice:  6\n"
     ]
    },
    {
     "name": "stdout",
     "output_type": "stream",
     "text": [
      "1. Insert at the beginning\n",
      "2. Insert at the end\n",
      "3. Insert in the middle\n",
      "4. Delete from the beginning\n",
      "5. Delete from the end\n",
      "6. Delete from the middle\n",
      "7. Display\n",
      "8. Exit\n"
     ]
    },
    {
     "name": "stdin",
     "output_type": "stream",
     "text": [
      "Enter your choice:  7\n"
     ]
    },
    {
     "name": "stdout",
     "output_type": "stream",
     "text": [
      "40 30 \n",
      "1. Insert at the beginning\n",
      "2. Insert at the end\n",
      "3. Insert in the middle\n",
      "4. Delete from the beginning\n",
      "5. Delete from the end\n",
      "6. Delete from the middle\n",
      "7. Display\n",
      "8. Exit\n"
     ]
    },
    {
     "name": "stdin",
     "output_type": "stream",
     "text": [
      "Enter your choice:  8\n"
     ]
    }
   ],
   "source": [
    "class Node:\n",
    "    def __init__(self, data):\n",
    "        self.value = data\n",
    "        self.next = None\n",
    "\n",
    "def insertfirst(head):\n",
    "    data = int(input('Enter the value: '))\n",
    "    temp = Node(data)\n",
    "    temp.next = head\n",
    "    head = temp\n",
    "    return head\n",
    "\n",
    "def insertback(head):\n",
    "    data = int(input('Enter the value: '))\n",
    "    if head is None:\n",
    "        return Node(data)\n",
    "    else:\n",
    "        current = head\n",
    "        while current.next is not None:\n",
    "            current = current.next\n",
    "        current.next = Node(data)\n",
    "    return head\n",
    "\n",
    "def insertmiddle(head):\n",
    "    data = int(input('Enter the value: '))\n",
    "    temp = Node(data)\n",
    "    if head is None:\n",
    "        return temp\n",
    "    else:\n",
    "        slow = head\n",
    "        fast = head\n",
    "        while fast.next is not None and fast.next.next is not None:\n",
    "            slow = slow.next\n",
    "            fast = fast.next.next\n",
    "        temp.next = slow.next\n",
    "        slow.next = temp\n",
    "    return head\n",
    "\n",
    "def deletefirst(head):\n",
    "    if head is None:\n",
    "        print('List is empty')\n",
    "        return None\n",
    "    return head.next\n",
    "\n",
    "def deleteback(head):\n",
    "    if head is None or head.next is None:\n",
    "        return None\n",
    "    current = head\n",
    "    while current.next.next is not None:\n",
    "        current = current.next\n",
    "    current.next = None\n",
    "    return head\n",
    "\n",
    "def deletemiddle(head):\n",
    "    if head is None or head.next is None:\n",
    "        return None\n",
    "    slow = head\n",
    "    fast = head\n",
    "    prev = None\n",
    "    while fast and fast.next:\n",
    "        prev = slow\n",
    "        slow = slow.next\n",
    "        fast = fast.next.next\n",
    "    prev.next = slow.next\n",
    "    return head\n",
    "\n",
    "def display(head):\n",
    "    if head is None:\n",
    "        print('List is empty')\n",
    "        return\n",
    "    curr = head\n",
    "    while curr is not None:\n",
    "        print(curr.value, end=' ')\n",
    "        curr = curr.next\n",
    "    print()\n",
    "\n",
    "head = None\n",
    "while True:\n",
    "    print(\"1. Insert at the beginning\")\n",
    "    print(\"2. Insert at the end\")\n",
    "    print(\"3. Insert in the middle\")\n",
    "    print(\"4. Delete from the beginning\")\n",
    "    print(\"5. Delete from the end\")\n",
    "    print(\"6. Delete from the middle\")\n",
    "    print(\"7. Display\")\n",
    "    print(\"8. Exit\")\n",
    "        \n",
    "    choice = int(input(\"Enter your choice: \"))\n",
    "    \n",
    "    if choice == 1:\n",
    "        head = insertfirst(head)\n",
    "    elif choice == 2:\n",
    "        head = insertback(head)\n",
    "    elif choice == 3:\n",
    "        head = insertmiddle(head)\n",
    "    elif choice == 4:\n",
    "        head = deletefirst(head)\n",
    "        if not head: \n",
    "            print('List is now empty.')\n",
    "    elif choice == 5:\n",
    "        head = deleteback(head)\n",
    "        if not head: \n",
    "            print('List is now empty.')\n",
    "    elif choice == 6:\n",
    "        head = deletemiddle(head)\n",
    "        if not head: \n",
    "            print('List is now empty.')\n",
    "    elif choice == 7:\n",
    "        display(head)\n",
    "    elif choice == 8:\n",
    "        break\n",
    "    else:\n",
    "        print(\"Invalid choice. Please try again.\")"
   ]
  },
  {
   "cell_type": "markdown",
   "id": "d9b464ce-4255-4b19-a39b-0cf85a2a6e1b",
   "metadata": {},
   "source": [
    "## \"Basic Calculator\""
   ]
  },
  {
   "cell_type": "code",
   "execution_count": 8,
   "id": "01b7fb56-d57d-4c4f-82fd-470dbcc85699",
   "metadata": {},
   "outputs": [
    {
     "name": "stdin",
     "output_type": "stream",
     "text": [
      " 2+2\n"
     ]
    },
    {
     "name": "stdout",
     "output_type": "stream",
     "text": [
      "4.0\n"
     ]
    }
   ],
   "source": [
    "l=[i for i in input()]\n",
    "op='/*-+'\n",
    "\n",
    "for i in l:\n",
    "    idex=0\n",
    "    if i in op:\n",
    "        idex= l.index(i)\n",
    "        val1 = float(''.join(l[:idex]))\n",
    "        val2 =float(''.join(l[idex+1:]))\n",
    "        oper= l[idex]\n",
    "        break\n",
    "if oper == '+':\n",
    "    print( val1+val2)\n",
    "elif oper == '-':\n",
    "    print( val1-val2)\n",
    "elif oper == '*':\n",
    "    print( val1*val2) \n",
    "elif oper == '/':\n",
    "    print( val1/val2)"
   ]
  },
  {
   "cell_type": "code",
   "execution_count": 14,
   "id": "31379927-2903-4643-b8b8-6194f4e44aef",
   "metadata": {},
   "outputs": [
    {
     "name": "stdin",
     "output_type": "stream",
     "text": [
      " 4*4\n"
     ]
    },
    {
     "name": "stdout",
     "output_type": "stream",
     "text": [
      "4 4\n",
      "Multiplication\n",
      "16.0\n"
     ]
    }
   ],
   "source": [
    "s=input()\n",
    "op=['+','-','*','/','%']\n",
    "\n",
    "for i in s:\n",
    "    if i in op:\n",
    "        x=i\n",
    "        s=s.replace(i,\" \")\n",
    "print(s)\n",
    "l=list(map(float,s.split(\" \")))\n",
    "match x:\n",
    "    case '+': \n",
    "        print(\"Addition\")\n",
    "        print(l[0]+l[1])\n",
    "    case '-':\n",
    "        print(\"Subtraction\")\n",
    "        print(l[0]-l[1])\n",
    "    case '*':\n",
    "        print(\"Multiplication\")\n",
    "        print(l[0]*l[1])\n",
    "    case '/':\n",
    "        print(\"Division\")\n",
    "        print(l[0]/l[1])\n",
    "    case '%':\n",
    "        print(\"Modulus\")\n",
    "        print(l[0]%l[1])\n",
    "    case  _:print(\"invalid\")"
   ]
  },
  {
   "cell_type": "code",
   "execution_count": null,
   "id": "a72888c8-6b66-4260-bcf0-8f723e6e0228",
   "metadata": {},
   "outputs": [],
   "source": []
  }
 ],
 "metadata": {
  "kernelspec": {
   "display_name": "Python 3 (ipykernel)",
   "language": "python",
   "name": "python3"
  },
  "language_info": {
   "codemirror_mode": {
    "name": "ipython",
    "version": 3
   },
   "file_extension": ".py",
   "mimetype": "text/x-python",
   "name": "python",
   "nbconvert_exporter": "python",
   "pygments_lexer": "ipython3",
   "version": "3.11.7"
  }
 },
 "nbformat": 4,
 "nbformat_minor": 5
}
