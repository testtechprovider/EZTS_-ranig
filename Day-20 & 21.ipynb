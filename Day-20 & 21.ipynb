{
 "cells": [
  {
   "cell_type": "code",
   "execution_count": 2,
   "id": "5f634568-75a8-404c-82dc-e02beb44fab7",
   "metadata": {},
   "outputs": [
    {
     "name": "stdout",
     "output_type": "stream",
     "text": [
      "[81, 34, 46, 56, 45, 104, 70, 37, 39, 20]\n"
     ]
    }
   ],
   "source": [
    "# Double Hashing\n",
    "k=[20,34,45,70,56,81,104,37,46,39]\n",
    "#hk=[False]*11\n",
    "hk=[False for i in range(len(k))]\n",
    "n=len(k)\n",
    "\n",
    "for i in k:\n",
    "    h1_k = i % 11\n",
    "    #print (hk)\n",
    "    for j in range(len(k)):\n",
    "        h2_k=8-(i % 8)\n",
    "        h_k=(h1_k + j * (h2_k)) % 11\n",
    "        if hk[h_k] == False:\n",
    "            hk[h_k]=i\n",
    "            break        \n",
    "\n",
    "print(hk)"
   ]
  },
  {
   "cell_type": "code",
   "execution_count": 4,
   "id": "553e1cb3-f550-4a88-9600-efaac17f5742",
   "metadata": {},
   "outputs": [
    {
     "name": "stdout",
     "output_type": "stream",
     "text": [
      "0b100\n",
      "0b101\n",
      "0b1\n",
      "-0b110\n",
      "-0b101\n",
      "10\n",
      "2\n"
     ]
    }
   ],
   "source": [
    "# BIT MANIPULATION\n",
    "a=5\n",
    "b=4\n",
    "print(bin(a & b))\n",
    "print(bin(a | b))\n",
    "print(bin(a ^ b))\n",
    "print(bin(~a))\n",
    "print(bin(~b))\n",
    "print(a<<1)\n",
    "print(b>>1)"
   ]
  },
  {
   "cell_type": "code",
   "execution_count": 6,
   "id": "ed490b3b-29fd-4cee-a0d9-928cbefcccd7",
   "metadata": {},
   "outputs": [
    {
     "name": "stdout",
     "output_type": "stream",
     "text": [
      "0b101\n",
      "-6\n"
     ]
    }
   ],
   "source": [
    "print(bin(5))\n",
    "print(~5)"
   ]
  },
  {
   "cell_type": "code",
   "execution_count": 7,
   "id": "cb322d1d-4218-45fc-b21b-b7312d7292b3",
   "metadata": {},
   "outputs": [
    {
     "name": "stdout",
     "output_type": "stream",
     "text": [
      "(1, 4)\n",
      "(2, 3)\n",
      "(3, 2)\n",
      "(4, 1)\n"
     ]
    }
   ],
   "source": [
    "# zip() function\n",
    "a=[1,2,3,4]\n",
    "b=[4,3,2,1,6]\n",
    "for i in zip(a,b):\n",
    "    print(i)"
   ]
  },
  {
   "cell_type": "code",
   "execution_count": 14,
   "id": "7e461258-5407-4ae5-b618-5912918ceef0",
   "metadata": {},
   "outputs": [
    {
     "name": "stdout",
     "output_type": "stream",
     "text": [
      "400\n",
      "16\n"
     ]
    }
   ],
   "source": [
    "###Lambdd Function \n",
    "def a(x):\n",
    "    return x*x\n",
    "\n",
    "def b(x):\n",
    "    return x-4\n",
    "\n",
    "print(a(20))\n",
    "print(b(20))"
   ]
  },
  {
   "cell_type": "code",
   "execution_count": 15,
   "id": "a2da1d12-302c-45b8-b737-48ec5beb7c7f",
   "metadata": {},
   "outputs": [
    {
     "name": "stdout",
     "output_type": "stream",
     "text": [
      "400\n",
      "16\n",
      "70\n"
     ]
    }
   ],
   "source": [
    "A=lambda x:x*x\n",
    "B=lambda x:x-4\n",
    "c=lambda x,y,z:x+y+z\n",
    "print(A(20))\n",
    "print(B(20))\n",
    "print(c(10,20,40))"
   ]
  },
  {
   "cell_type": "code",
   "execution_count": 20,
   "id": "91a8afa3-505a-4a75-bb6b-7ff6a4b71435",
   "metadata": {},
   "outputs": [
    {
     "name": "stdin",
     "output_type": "stream",
     "text": [
      " 20,40,10,30,50\n",
      " 2,1,2,3,1\n"
     ]
    },
    {
     "name": "stdout",
     "output_type": "stream",
     "text": [
      "3\n"
     ]
    }
   ],
   "source": [
    "P=list(map(int,input().split(',')))\n",
    "DL=list(map(int,input().split(',')))\n",
    "Target=max(DL)\n",
    "print(Target)\n",
    "DL={}"
   ]
  },
  {
   "cell_type": "code",
   "execution_count": 21,
   "id": "f8a2586c-7679-4d3b-b7cc-537092a522a7",
   "metadata": {},
   "outputs": [
    {
     "name": "stdout",
     "output_type": "stream",
     "text": [
      "0 1 0 0\n",
      "0 0 0 1\n",
      "1 0 0 0\n",
      "0 0 1 0\n",
      "\n",
      "0 0 1 0\n",
      "1 0 0 0\n",
      "0 0 0 1\n",
      "0 1 0 0\n",
      "\n"
     ]
    }
   ],
   "source": [
    "#N-Queen\n",
    "def print_board(board):\n",
    "    for row in board:\n",
    "        print(\" \".join(str(cell) for cell in row))\n",
    "    print()\n",
    "\n",
    "def safeposition(board,row,col):\n",
    "    for i in range(row):\n",
    "        if board[i][col]==1:\n",
    "            return False\n",
    "    for i,j in zip(range(row-1,-1,-1),range(col-1,-1,-1)):\n",
    "        if board[i][j]==1:\n",
    "            return False\n",
    "    for i,j in zip(range(row-1,-1,-1),range(col+1,n)):\n",
    "        if board[i][j]==1:\n",
    "            return False\n",
    "    return True\n",
    "\n",
    "def fun(board,row):\n",
    "    if row==n:\n",
    "        print_board(board)\n",
    "        return\n",
    "    for col in range(n):\n",
    "        if safeposition(board,row,col):\n",
    "            board[row][col]=1\n",
    "            fun(board,row+1)\n",
    "            board[row][col]=0\n",
    "\n",
    "n=4\n",
    "board=[[0 for _ in range(n)]for _ in range(n)]\n",
    "fun(board,0)"
   ]
  },
  {
   "cell_type": "code",
   "execution_count": 13,
   "id": "6ac1507a-dc0d-4bf9-95bf-15917fda3a12",
   "metadata": {},
   "outputs": [
    {
     "name": "stdout",
     "output_type": "stream",
     "text": [
      ". . Q .\n",
      "Q . . .\n",
      ". . . Q\n",
      ". Q . .\n",
      "\n"
     ]
    },
    {
     "data": {
      "text/plain": [
       "True"
      ]
     },
     "execution_count": 13,
     "metadata": {},
     "output_type": "execute_result"
    }
   ],
   "source": [
    "# N-Queens\n",
    "def print_board(board):\n",
    "    for row in board:\n",
    "        print(\" \".join(row))\n",
    "    print()\n",
    "\n",
    "def is_safe(board, row, col):\n",
    "    for i in range(col):\n",
    "        if board[row][i] == 'Q':\n",
    "            return False\n",
    "    for i, j in zip(range(row, -1, -1), range(col, -1, -1)):\n",
    "        if board[i][j] == 'Q':\n",
    "            return False\n",
    "    for i, j in zip(range(row, len(board), 1), range(col, -1, -1)):\n",
    "        if board[i][j] == 'Q':\n",
    "            return False\n",
    "\n",
    "    return True\n",
    "\n",
    "def solve_n_queens(board, col):\n",
    "    if col >= len(board):\n",
    "        return True\n",
    "\n",
    "    for i in range(len(board)):\n",
    "        if is_safe(board, i, col):\n",
    "            board[i][col] = 'Q'\n",
    "            if solve_n_queens(board, col + 1):\n",
    "                return True\n",
    "            board[i][col] = '.'  # Backtrack\n",
    "\n",
    "    return False\n",
    "\n",
    "def n_queens(N):\n",
    "    board = [['.' for _ in range(N)] for _ in range(N)]\n",
    "    if not solve_n_queens(board, 0):\n",
    "        print(\"Solution does not exist\")\n",
    "        return False\n",
    "\n",
    "    print_board(board)\n",
    "    return True\n",
    "n_queens(4)"
   ]
  },
  {
   "cell_type": "code",
   "execution_count": 9,
   "id": "5b5f668f-42c7-41db-ac0b-9609d73f0ee4",
   "metadata": {},
   "outputs": [
    {
     "name": "stdout",
     "output_type": "stream",
     "text": [
      "Number of solutions for 4-Queens problem: 2\n",
      "[[0, 0, 1, 0], [1, 0, 0, 0], [0, 0, 0, 1], [0, 1, 0, 0]]\n",
      "[[0, 1, 0, 0], [0, 0, 0, 1], [1, 0, 0, 0], [0, 0, 1, 0]]\n"
     ]
    }
   ],
   "source": [
    "# Alternate\n",
    "def is_safe(board, row, col, n):\n",
    "    for i in range(col):\n",
    "        if board[row][i] == 1:\n",
    "            return False\n",
    "    for i, j in zip(range(row, -1, -1), range(col, -1, -1)):\n",
    "        if board[i][j] == 1:\n",
    "            return False\n",
    "    for i, j in zip(range(row, n, 1), range(col, -1, -1)):\n",
    "        if board[i][j] == 1:\n",
    "            return False\n",
    "\n",
    "    return True\n",
    "\n",
    "def solve_n_queens(n):\n",
    "    board = [[0 for _ in range(n)] for _ in range(n)]\n",
    "    solutions = []\n",
    "\n",
    "    def backtrack(col):\n",
    "        if col == n:\n",
    "            solutions.append([row[:] for row in board])\n",
    "            return\n",
    "\n",
    "        for i in range(n):\n",
    "            if is_safe(board, i, col, n):\n",
    "                board[i][col] = 1\n",
    "                backtrack(col + 1)\n",
    "                board[i][col] = 0\n",
    "\n",
    "    backtrack(0)\n",
    "    return solutions\n",
    "n = 4\n",
    "solutions = solve_n_queens(n)\n",
    "print(f\"Number of solutions for {n}-Queens problem: {len(solutions)}\")\n",
    "for solution in solutions:\n",
    "    print(solution)"
   ]
  },
  {
   "cell_type": "code",
   "execution_count": 6,
   "id": "2ef71ff0-30c0-4729-b7b3-20e4a58313a8",
   "metadata": {},
   "outputs": [
    {
     "name": "stdout",
     "output_type": "stream",
     "text": [
      "(3, 2)\n",
      "(2, 1)\n",
      "(1, 0)\n"
     ]
    }
   ],
   "source": [
    "q=4\n",
    "i=3\n",
    "for x in zip(range(q-1,-1,-1),range(i-1,-1,-1)):\n",
    "    print(x)"
   ]
  },
  {
   "cell_type": "markdown",
   "id": "067854c0-f9bc-4ea4-9bf1-92284932a0d4",
   "metadata": {},
   "source": [
    "#### Available denominations: coins problem sum=18 what will be the  min num of coins required to pay the bill."
   ]
  },
  {
   "cell_type": "code",
   "execution_count": 11,
   "id": "7fab6609-c645-48a7-853f-0157669480cb",
   "metadata": {},
   "outputs": [
    {
     "name": "stdin",
     "output_type": "stream",
     "text": [
      " 1 5 7\n"
     ]
    },
    {
     "name": "stdout",
     "output_type": "stream",
     "text": [
      "[7, 5, 1]\n",
      "7\n",
      "7\n",
      "1\n",
      "1\n",
      "1\n",
      "1\n",
      "coins: 6\n"
     ]
    }
   ],
   "source": [
    "arr=list(map(int,input().split()))\n",
    "arr.sort(reverse=True)\n",
    "print(arr)\n",
    "c=0\n",
    "i=0\n",
    "b=18\n",
    "while(b>0):\n",
    "    if b>=arr[i] and i<len(arr):\n",
    "        c+=1\n",
    "        b=b-arr[i]\n",
    "        print(arr[i]) #to print which coin is used\n",
    "    else:\n",
    "        i=i+1\n",
    "print(\"coins:\",c)"
   ]
  },
  {
   "cell_type": "code",
   "execution_count": 12,
   "id": "7e06c471-460a-4c7a-8a0a-d3b80955c37b",
   "metadata": {},
   "outputs": [
    {
     "name": "stdout",
     "output_type": "stream",
     "text": [
      "Minimum number of coins required to pay the bill of 18 is: 6\n"
     ]
    }
   ],
   "source": [
    "# Alternate\n",
    "def min_coins(denom, bill_amount):\n",
    "    denom.sort(reverse=True)\n",
    "    num= 0\n",
    "    for denomination in denom:\n",
    "        coins = bill_amount // denomination\n",
    "        num += coins\n",
    "        bill_amount -= coins * denomination\n",
    "    return num\n",
    "avail = [1, 5, 7]\n",
    "bill_amount = 18\n",
    "min_coins= min_coins(avail, bill_amount)\n",
    "print(f\"Minimum number of coins required to pay the bill of {bill_amount} is: {min_coins}\")"
   ]
  },
  {
   "cell_type": "markdown",
   "id": "9c322f4c-3598-49b3-a768-9cf093eb645e",
   "metadata": {},
   "source": [
    "## Day-21"
   ]
  },
  {
   "cell_type": "code",
   "execution_count": 1,
   "id": "2326ec01-8765-4365-8a7b-f6804df8db80",
   "metadata": {},
   "outputs": [
    {
     "name": "stdout",
     "output_type": "stream",
     "text": [
      "[8, 6, 5, 2, 1, 3, 4]\n"
     ]
    }
   ],
   "source": [
    "# Max Heap\n",
    "import heapq\n",
    "l=[3,2,4,6,1,5,8]\n",
    "heapq._heapify_max(l)\n",
    "print(l)"
   ]
  },
  {
   "cell_type": "code",
   "execution_count": 2,
   "id": "14377c2a-6120-40dd-9b16-d1f602b089fb",
   "metadata": {},
   "outputs": [
    {
     "name": "stdout",
     "output_type": "stream",
     "text": [
      "[80, 30, 40, 70, 100, 90, 60, 10, 25, 85]\n"
     ]
    }
   ],
   "source": [
    "import heapq\n",
    "def insertion(l,i):\n",
    "    while(i>0):\n",
    "        if l[i]>l[i//2]:\n",
    "            l[i//2]=l[i]\n",
    "        else:\n",
    "            break\n",
    "\n",
    "l=[80,30,40,70,100,90,60,10,25,85]\n",
    "\n",
    "#heapq._heapify_max(l)\n",
    "i=1\n",
    "print(l)\n",
    "insertion(l,i)"
   ]
  },
  {
   "cell_type": "code",
   "execution_count": null,
   "id": "0d37ffb4-6591-409d-9228-ec4a5642698d",
   "metadata": {},
   "outputs": [],
   "source": []
  }
 ],
 "metadata": {
  "kernelspec": {
   "display_name": "Python 3 (ipykernel)",
   "language": "python",
   "name": "python3"
  },
  "language_info": {
   "codemirror_mode": {
    "name": "ipython",
    "version": 3
   },
   "file_extension": ".py",
   "mimetype": "text/x-python",
   "name": "python",
   "nbconvert_exporter": "python",
   "pygments_lexer": "ipython3",
   "version": "3.11.7"
  }
 },
 "nbformat": 4,
 "nbformat_minor": 5
}
