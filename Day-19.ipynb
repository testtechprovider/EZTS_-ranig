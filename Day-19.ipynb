{
 "cells": [
  {
   "cell_type": "code",
   "execution_count": 1,
   "id": "d2abc3fa-4c27-4542-9b95-8aa58e87df24",
   "metadata": {},
   "outputs": [
    {
     "name": "stdout",
     "output_type": "stream",
     "text": [
      "400\n",
      "16\n"
     ]
    }
   ],
   "source": [
    "###Lambdd Function \n",
    "def a(x):\n",
    "    return x*x\n",
    "\n",
    "def b(x):\n",
    "    return x-4\n",
    "\n",
    "print(a(20))\n",
    "print(b(20))"
   ]
  },
  {
   "cell_type": "code",
   "execution_count": 2,
   "id": "f3d4d2aa-886d-471a-82c9-802ccccc7030",
   "metadata": {},
   "outputs": [
    {
     "name": "stdout",
     "output_type": "stream",
     "text": [
      "400\n",
      "16\n",
      "70\n"
     ]
    }
   ],
   "source": [
    "A=lambda x:x*x\n",
    "B=lambda x:x-4\n",
    "c=lambda x,y,z:x+y+z\n",
    "print(A(20))\n",
    "print(B(20))\n",
    "print(c(10,20,40))"
   ]
  },
  {
   "cell_type": "code",
   "execution_count": 3,
   "id": "7ee7d9cb-d845-42e1-b8fc-21253cbe68eb",
   "metadata": {},
   "outputs": [
    {
     "name": "stdin",
     "output_type": "stream",
     "text": [
      " 20,40,10,30,50\n",
      " 2,1,2,3,1\n"
     ]
    },
    {
     "name": "stdout",
     "output_type": "stream",
     "text": [
      "3\n"
     ]
    }
   ],
   "source": [
    "P=list(map(int,input().split(',')))\n",
    "DL=list(map(int,input().split(',')))\n",
    "Target=max(DL)\n",
    "print(Target)\n",
    "DL={}\n",
    "for i in range(len(P)):\n",
    "    \n",
    "    "
   ]
  },
  {
   "cell_type": "code",
   "execution_count": 5,
   "id": "196435cb-fe0e-4a19-b6bd-8cb487ff6f1a",
   "metadata": {},
   "outputs": [
    {
     "name": "stdout",
     "output_type": "stream",
     "text": [
      "0 1 0 0\n",
      "0 0 0 1\n",
      "1 0 0 0\n",
      "0 0 1 0\n",
      "\n",
      "0 0 1 0\n",
      "1 0 0 0\n",
      "0 0 0 1\n",
      "0 1 0 0\n",
      "\n"
     ]
    }
   ],
   "source": [
    "#N-Queen\n",
    "def print_board(board):\n",
    "    for row in board:\n",
    "        print(\" \".join(str(cell) for cell in row))\n",
    "    print()\n",
    "\n",
    "def safeposition(board,row,col):\n",
    "    for i in range(row):\n",
    "        if board[i][col]==1:\n",
    "            return False\n",
    "    for i,j in zip(range(row-1,-1,-1),range(col-1,-1,-1)):\n",
    "        if board[i][j]==1:\n",
    "            return False\n",
    "    for i,j in zip(range(row-1,-1,-1),range(col+1,n)):\n",
    "        if board[i][j]==1:\n",
    "            return False\n",
    "    return True\n",
    "\n",
    "def fun(board,row):\n",
    "    if row==n:\n",
    "        print_board(board)\n",
    "        return\n",
    "    for col in range(n):\n",
    "        if safeposition(board,row,col):\n",
    "            board[row][col]=1\n",
    "            fun(board,row+1)\n",
    "            board[row][col]=0\n",
    "\n",
    "n=4\n",
    "board=[[0 for _ in range(n)]for _ in range(n)]\n",
    "fun(board,0)\n",
    "        "
   ]
  },
  {
   "cell_type": "code",
   "execution_count": 21,
   "id": "8c83a9ba-6a25-4acd-a5f7-a3070a24e8f5",
   "metadata": {},
   "outputs": [
    {
     "name": "stdout",
     "output_type": "stream",
     "text": [
      "[100, 80, 90, 70, 30, 40, 60]\n"
     ]
    }
   ],
   "source": [
    "import heapq\n",
    "l=[80,30,40,70,100,90,60]\n",
    "\n",
    "heapq._heapify_max(l)\n",
    "print(l)\n"
   ]
  },
  {
   "cell_type": "code",
   "execution_count": 28,
   "id": "3ca2f05b-fd6d-46b2-8438-fb83fb8e6126",
   "metadata": {},
   "outputs": [
    {
     "name": "stdout",
     "output_type": "stream",
     "text": [
      "[80, 30, 40, 70, 100, 90, 60, 10, 25, 85]\n"
     ]
    }
   ],
   "source": [
    "import heapq\n",
    "def insertion(l,i):\n",
    "    while(i>0):\n",
    "        if l[i]>l[i//2]:\n",
    "            l[i//2]=l[i]\n",
    "        else:\n",
    "            break\n",
    "\n",
    "l=[80,30,40,70,100,90,60,10,25,85]\n",
    "\n",
    "#heapq._heapify_max(l)\n",
    "\n",
    "print(l)\n",
    "insertion(l,i)"
   ]
  },
  {
   "cell_type": "code",
   "execution_count": null,
   "id": "b984f3a3-1e4d-4a6d-b1c0-e20daffa4597",
   "metadata": {},
   "outputs": [],
   "source": []
  }
 ],
 "metadata": {
  "kernelspec": {
   "display_name": "Python 3 (ipykernel)",
   "language": "python",
   "name": "python3"
  },
  "language_info": {
   "codemirror_mode": {
    "name": "ipython",
    "version": 3
   },
   "file_extension": ".py",
   "mimetype": "text/x-python",
   "name": "python",
   "nbconvert_exporter": "python",
   "pygments_lexer": "ipython3",
   "version": "3.12.0"
  }
 },
 "nbformat": 4,
 "nbformat_minor": 5
}
